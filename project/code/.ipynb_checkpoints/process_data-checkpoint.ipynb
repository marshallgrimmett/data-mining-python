{
 "cells": [
  {
   "cell_type": "markdown",
   "metadata": {},
   "source": [
    "# Pre processing dataset for all models"
   ]
  },
  {
   "cell_type": "code",
   "execution_count": 21,
   "metadata": {},
   "outputs": [
    {
     "name": "stderr",
     "output_type": "stream",
     "text": [
      "c:\\users\\marsh\\appdata\\local\\programs\\python\\python38\\lib\\site-packages\\IPython\\core\\interactiveshell.py:3145: DtypeWarning: Columns (61,63,65) have mixed types.Specify dtype option on import or set low_memory=False.\n",
      "  has_raised = await self.run_ast_nodes(code_ast.body, cell_name,\n"
     ]
    },
    {
     "name": "stdout",
     "output_type": "stream",
     "text": [
      "Index(['Row', 'Sample Name', 'Transaction Id', 'Anon Student Id', 'Session Id',\n",
      "       'Time', 'Time Zone', 'Duration (sec)', 'Student Response Type',\n",
      "       'Student Response Subtype', 'Tutor Response Type',\n",
      "       'Tutor Response Subtype', 'Level (Curriculum)', 'Problem Name',\n",
      "       'Problem View', 'Problem Start Time', 'Step Name', 'Attempt At Step',\n",
      "       'Is Last Attempt', 'Outcome', 'Selection', 'Action', 'Input',\n",
      "       'Feedback Text', 'Feedback Classification', 'Help Level',\n",
      "       'Total Num Hints', 'KC (WPI-Apr-2005)', 'KC Category (WPI-Apr-2005)',\n",
      "       'KC (WPI-Apr-2005)_1', 'KC Category (WPI-Apr-2005)_2',\n",
      "       'KC (WPI-Apr-2005)_3', 'KC Category (WPI-Apr-2005)_4',\n",
      "       'KC (WPI-Apr-2005)_5', 'KC Category (WPI-Apr-2005)_6',\n",
      "       'KC (WPI-Apr-2005)_7', 'KC Category (WPI-Apr-2005)_8',\n",
      "       'KC (WPI-Apr-2005)_9', 'KC Category (WPI-Apr-2005)_10',\n",
      "       'KC (skills_from_dataframe)', 'KC Category (skills_from_dataframe)',\n",
      "       'KC (skills_from_dataframe)_11',\n",
      "       'KC Category (skills_from_dataframe)_12',\n",
      "       'KC (skills_from_dataframe)_13',\n",
      "       'KC Category (skills_from_dataframe)_14',\n",
      "       'KC (skills_from_dataframe)_15',\n",
      "       'KC Category (skills_from_dataframe)_16',\n",
      "       'KC (skills_from_dataframe)_17',\n",
      "       'KC Category (skills_from_dataframe)_18',\n",
      "       'KC (skills_from_dataframe)_19',\n",
      "       'KC Category (skills_from_dataframe)_20',\n",
      "       'KC (MCAS39-State_WPI-Simple)', 'KC Category (MCAS39-State_WPI-Simple)',\n",
      "       'KC (MCAS39-State_WPI-Simple)_21',\n",
      "       'KC Category (MCAS39-State_WPI-Simple)_22',\n",
      "       'KC (MCAS39-State_WPI-Simple)_23',\n",
      "       'KC Category (MCAS39-State_WPI-Simple)_24',\n",
      "       'KC (MCAS39-State_WPI-Simple)_25',\n",
      "       'KC Category (MCAS39-State_WPI-Simple)_26',\n",
      "       'KC (MCAS5-State_WPI-Simple)', 'KC Category (MCAS5-State_WPI-Simple)',\n",
      "       'KC (MCAS5-State_WPI-Simple)_27',\n",
      "       'KC Category (MCAS5-State_WPI-Simple)_28',\n",
      "       'KC (MCAS5-State_WPI-Simple)_29',\n",
      "       'KC Category (MCAS5-State_WPI-Simple)_30',\n",
      "       'KC (MCAS5-State_WPI-Simple)_31',\n",
      "       'KC Category (MCAS5-State_WPI-Simple)_32', 'KC (Single-KC)',\n",
      "       'KC Category (Single-KC)', 'KC (Unique-step)',\n",
      "       'KC Category (Unique-step)', 'School', 'Class'],\n",
      "      dtype='object')\n"
     ]
    }
   ],
   "source": [
    "import pandas as pd\n",
    "\n",
    "df = pd.read_csv('data.csv')\n",
    "\n",
    "print(df.columns)"
   ]
  },
  {
   "cell_type": "code",
   "execution_count": 22,
   "metadata": {},
   "outputs": [
    {
     "data": {
      "text/plain": [
       "685615"
      ]
     },
     "execution_count": 22,
     "metadata": {},
     "output_type": "execute_result"
    }
   ],
   "source": [
    "len(df)"
   ]
  },
  {
   "cell_type": "markdown",
   "metadata": {},
   "source": [
    "## Number of nulls in each column"
   ]
  },
  {
   "cell_type": "code",
   "execution_count": 23,
   "metadata": {},
   "outputs": [
    {
     "data": {
      "text/plain": [
       "Row                                              0\n",
       "Sample Name                                      0\n",
       "Transaction Id                                   0\n",
       "Anon Student Id                                  0\n",
       "Session Id                                       0\n",
       "Time                                             0\n",
       "Time Zone                                        0\n",
       "Duration (sec)                                1087\n",
       "Student Response Type                            0\n",
       "Student Response Subtype                    685615\n",
       "Tutor Response Type                            350\n",
       "Tutor Response Subtype                      685615\n",
       "Level (Curriculum)                               0\n",
       "Problem Name                                     0\n",
       "Problem View                                   293\n",
       "Problem Start Time                             293\n",
       "Step Name                                      350\n",
       "Attempt At Step                                350\n",
       "Is Last Attempt                                350\n",
       "Outcome                                        350\n",
       "Selection                                        0\n",
       "Action                                           0\n",
       "Input                                       194618\n",
       "Feedback Text                               318146\n",
       "Feedback Classification                     491466\n",
       "Help Level                                  491466\n",
       "Total Num Hints                             685615\n",
       "KC (WPI-Apr-2005)                           228793\n",
       "KC Category (WPI-Apr-2005)                  685615\n",
       "KC (WPI-Apr-2005)_1                         642000\n",
       "KC Category (WPI-Apr-2005)_2                685615\n",
       "KC (WPI-Apr-2005)_3                         677117\n",
       "KC Category (WPI-Apr-2005)_4                685615\n",
       "KC (WPI-Apr-2005)_5                         684876\n",
       "KC Category (WPI-Apr-2005)_6                685615\n",
       "KC (WPI-Apr-2005)_7                         685199\n",
       "KC Category (WPI-Apr-2005)_8                685615\n",
       "KC (WPI-Apr-2005)_9                         685199\n",
       "KC Category (WPI-Apr-2005)_10               685615\n",
       "KC (skills_from_dataframe)                  299403\n",
       "KC Category (skills_from_dataframe)         685615\n",
       "KC (skills_from_dataframe)_11               645959\n",
       "KC Category (skills_from_dataframe)_12      685615\n",
       "KC (skills_from_dataframe)_13               677481\n",
       "KC Category (skills_from_dataframe)_14      685615\n",
       "KC (skills_from_dataframe)_15               684876\n",
       "KC Category (skills_from_dataframe)_16      685615\n",
       "KC (skills_from_dataframe)_17               685199\n",
       "KC Category (skills_from_dataframe)_18      685615\n",
       "KC (skills_from_dataframe)_19               685199\n",
       "KC Category (skills_from_dataframe)_20      685615\n",
       "KC (MCAS39-State_WPI-Simple)                405154\n",
       "KC Category (MCAS39-State_WPI-Simple)       685615\n",
       "KC (MCAS39-State_WPI-Simple)_21             634029\n",
       "KC Category (MCAS39-State_WPI-Simple)_22    685615\n",
       "KC (MCAS39-State_WPI-Simple)_23             677286\n",
       "KC Category (MCAS39-State_WPI-Simple)_24    685615\n",
       "KC (MCAS39-State_WPI-Simple)_25             684081\n",
       "KC Category (MCAS39-State_WPI-Simple)_26    685615\n",
       "KC (MCAS5-State_WPI-Simple)                 296366\n",
       "KC Category (MCAS5-State_WPI-Simple)        685615\n",
       "KC (MCAS5-State_WPI-Simple)_27              683756\n",
       "KC Category (MCAS5-State_WPI-Simple)_28     685615\n",
       "KC (MCAS5-State_WPI-Simple)_29              685292\n",
       "KC Category (MCAS5-State_WPI-Simple)_30     685615\n",
       "KC (MCAS5-State_WPI-Simple)_31              685292\n",
       "KC Category (MCAS5-State_WPI-Simple)_32     685615\n",
       "KC (Single-KC)                                 350\n",
       "KC Category (Single-KC)                     685615\n",
       "KC (Unique-step)                            536216\n",
       "KC Category (Unique-step)                   685615\n",
       "School                                           0\n",
       "Class                                            0\n",
       "dtype: int64"
      ]
     },
     "execution_count": 23,
     "metadata": {},
     "output_type": "execute_result"
    }
   ],
   "source": [
    "pd.options.display.max_rows = 100\n",
    "df.isnull().sum()"
   ]
  },
  {
   "cell_type": "markdown",
   "metadata": {},
   "source": [
    "'Anon Student Id','Problem Name',\n",
    "'Student Response Type', 'Tutor Response Type',\n",
    "'Step Name','Outcome',\n",
    "\n",
    "KC (MCAS5-State_WPI-Simple)                 296366\n",
    "\n",
    "KC (skills_from_dataframe)                  299403\n",
    "\n",
    "KC (WPI-Apr-2005)                           228793"
   ]
  },
  {
   "cell_type": "markdown",
   "metadata": {},
   "source": [
    "## Selecting only the columns we need"
   ]
  },
  {
   "cell_type": "code",
   "execution_count": 24,
   "metadata": {},
   "outputs": [],
   "source": [
    "df = df[['Anon Student Id','Problem Name','Step Name','Outcome','KC (WPI-Apr-2005)']]"
   ]
  },
  {
   "cell_type": "markdown",
   "metadata": {},
   "source": [
    "## Selecting only the data that were attempts. i.e. select the rows with outcome equal to \"correct\" or \"incorrect\""
   ]
  },
  {
   "cell_type": "code",
   "execution_count": 25,
   "metadata": {},
   "outputs": [
    {
     "data": {
      "text/plain": [
       "array(['HINT', 'INCORRECT', 'CORRECT', nan], dtype=object)"
      ]
     },
     "execution_count": 25,
     "metadata": {},
     "output_type": "execute_result"
    }
   ],
   "source": [
    "df['Outcome'].unique()"
   ]
  },
  {
   "cell_type": "code",
   "execution_count": 26,
   "metadata": {},
   "outputs": [],
   "source": [
    "df = df.loc[(df['Outcome'] == 'CORRECT') | (df['Outcome'] == 'INCORRECT')]"
   ]
  },
  {
   "cell_type": "code",
   "execution_count": 27,
   "metadata": {},
   "outputs": [
    {
     "data": {
      "text/html": [
       "<div>\n",
       "<style scoped>\n",
       "    .dataframe tbody tr th:only-of-type {\n",
       "        vertical-align: middle;\n",
       "    }\n",
       "\n",
       "    .dataframe tbody tr th {\n",
       "        vertical-align: top;\n",
       "    }\n",
       "\n",
       "    .dataframe thead th {\n",
       "        text-align: right;\n",
       "    }\n",
       "</style>\n",
       "<table border=\"1\" class=\"dataframe\">\n",
       "  <thead>\n",
       "    <tr style=\"text-align: right;\">\n",
       "      <th></th>\n",
       "      <th>Anon Student Id</th>\n",
       "      <th>Problem Name</th>\n",
       "      <th>Step Name</th>\n",
       "      <th>Outcome</th>\n",
       "      <th>KC (WPI-Apr-2005)</th>\n",
       "    </tr>\n",
       "  </thead>\n",
       "  <tbody>\n",
       "    <tr>\n",
       "      <th>2</th>\n",
       "      <td>Stu_0012ae7d5d1993619f0bad91630b7c79</td>\n",
       "      <td>8788</td>\n",
       "      <td>Step1:8792:What is the measure of angle 2? SYSTEM</td>\n",
       "      <td>INCORRECT</td>\n",
       "      <td>NaN</td>\n",
       "    </tr>\n",
       "    <tr>\n",
       "      <th>3</th>\n",
       "      <td>Stu_0012ae7d5d1993619f0bad91630b7c79</td>\n",
       "      <td>8635</td>\n",
       "      <td>Step0:8635:Jacqueline is a runner who hopes to...</td>\n",
       "      <td>CORRECT</td>\n",
       "      <td>NaN</td>\n",
       "    </tr>\n",
       "    <tr>\n",
       "      <th>6</th>\n",
       "      <td>Stu_00176143fc2991346939888160a9b1ce</td>\n",
       "      <td>7674</td>\n",
       "      <td>Step1:7675:Which decimal is closest to the fra...</td>\n",
       "      <td>CORRECT</td>\n",
       "      <td>NaN</td>\n",
       "    </tr>\n",
       "    <tr>\n",
       "      <th>7</th>\n",
       "      <td>Stu_00176143fc2991346939888160a9b1ce</td>\n",
       "      <td>7674</td>\n",
       "      <td>Step2:7673:26/51 is approximately 0.5 What per...</td>\n",
       "      <td>INCORRECT</td>\n",
       "      <td>NaN</td>\n",
       "    </tr>\n",
       "    <tr>\n",
       "      <th>8</th>\n",
       "      <td>Stu_00176143fc2991346939888160a9b1ce</td>\n",
       "      <td>7674</td>\n",
       "      <td>Step2:7673:26/51 is approximately 0.5 What per...</td>\n",
       "      <td>CORRECT</td>\n",
       "      <td>NaN</td>\n",
       "    </tr>\n",
       "    <tr>\n",
       "      <th>...</th>\n",
       "      <td>...</td>\n",
       "      <td>...</td>\n",
       "      <td>...</td>\n",
       "      <td>...</td>\n",
       "      <td>...</td>\n",
       "    </tr>\n",
       "    <tr>\n",
       "      <th>685610</th>\n",
       "      <td>Stu_fff5c8fc1e1e08cfd72a0e5122b547d4</td>\n",
       "      <td>1229</td>\n",
       "      <td>Step0:1229:Kathy rode her bicycle from her hou...</td>\n",
       "      <td>INCORRECT</td>\n",
       "      <td>Graph-Shape</td>\n",
       "    </tr>\n",
       "    <tr>\n",
       "      <th>685611</th>\n",
       "      <td>Stu_fff5c8fc1e1e08cfd72a0e5122b547d4</td>\n",
       "      <td>1229</td>\n",
       "      <td>Step1:1230:First, let's determine what the gra...</td>\n",
       "      <td>CORRECT</td>\n",
       "      <td>Graph-Shape</td>\n",
       "    </tr>\n",
       "    <tr>\n",
       "      <th>685612</th>\n",
       "      <td>Stu_fff5c8fc1e1e08cfd72a0e5122b547d4</td>\n",
       "      <td>1229</td>\n",
       "      <td>Step2:1231:Good, now what does a steeper line ...</td>\n",
       "      <td>CORRECT</td>\n",
       "      <td>Graph-Shape</td>\n",
       "    </tr>\n",
       "    <tr>\n",
       "      <th>685613</th>\n",
       "      <td>Stu_fff5c8fc1e1e08cfd72a0e5122b547d4</td>\n",
       "      <td>1229</td>\n",
       "      <td>Step3:1232:Now, Kathy traveled faster on a lev...</td>\n",
       "      <td>CORRECT</td>\n",
       "      <td>Graph-Shape</td>\n",
       "    </tr>\n",
       "    <tr>\n",
       "      <th>685614</th>\n",
       "      <td>Stu_fff5c8fc1e1e08cfd72a0e5122b547d4</td>\n",
       "      <td>1477</td>\n",
       "      <td>Step0:1477:Compute 1/3 x 11/2 SYSTEM</td>\n",
       "      <td>INCORRECT</td>\n",
       "      <td>Equivalent-Fractions-Decimals-Percents</td>\n",
       "    </tr>\n",
       "  </tbody>\n",
       "</table>\n",
       "<p>491116 rows × 5 columns</p>\n",
       "</div>"
      ],
      "text/plain": [
       "                             Anon Student Id  Problem Name  \\\n",
       "2       Stu_0012ae7d5d1993619f0bad91630b7c79          8788   \n",
       "3       Stu_0012ae7d5d1993619f0bad91630b7c79          8635   \n",
       "6       Stu_00176143fc2991346939888160a9b1ce          7674   \n",
       "7       Stu_00176143fc2991346939888160a9b1ce          7674   \n",
       "8       Stu_00176143fc2991346939888160a9b1ce          7674   \n",
       "...                                      ...           ...   \n",
       "685610  Stu_fff5c8fc1e1e08cfd72a0e5122b547d4          1229   \n",
       "685611  Stu_fff5c8fc1e1e08cfd72a0e5122b547d4          1229   \n",
       "685612  Stu_fff5c8fc1e1e08cfd72a0e5122b547d4          1229   \n",
       "685613  Stu_fff5c8fc1e1e08cfd72a0e5122b547d4          1229   \n",
       "685614  Stu_fff5c8fc1e1e08cfd72a0e5122b547d4          1477   \n",
       "\n",
       "                                                Step Name    Outcome  \\\n",
       "2       Step1:8792:What is the measure of angle 2? SYSTEM  INCORRECT   \n",
       "3       Step0:8635:Jacqueline is a runner who hopes to...    CORRECT   \n",
       "6       Step1:7675:Which decimal is closest to the fra...    CORRECT   \n",
       "7       Step2:7673:26/51 is approximately 0.5 What per...  INCORRECT   \n",
       "8       Step2:7673:26/51 is approximately 0.5 What per...    CORRECT   \n",
       "...                                                   ...        ...   \n",
       "685610  Step0:1229:Kathy rode her bicycle from her hou...  INCORRECT   \n",
       "685611  Step1:1230:First, let's determine what the gra...    CORRECT   \n",
       "685612  Step2:1231:Good, now what does a steeper line ...    CORRECT   \n",
       "685613  Step3:1232:Now, Kathy traveled faster on a lev...    CORRECT   \n",
       "685614               Step0:1477:Compute 1/3 x 11/2 SYSTEM  INCORRECT   \n",
       "\n",
       "                             KC (WPI-Apr-2005)  \n",
       "2                                          NaN  \n",
       "3                                          NaN  \n",
       "6                                          NaN  \n",
       "7                                          NaN  \n",
       "8                                          NaN  \n",
       "...                                        ...  \n",
       "685610                             Graph-Shape  \n",
       "685611                             Graph-Shape  \n",
       "685612                             Graph-Shape  \n",
       "685613                             Graph-Shape  \n",
       "685614  Equivalent-Fractions-Decimals-Percents  \n",
       "\n",
       "[491116 rows x 5 columns]"
      ]
     },
     "execution_count": 27,
     "metadata": {},
     "output_type": "execute_result"
    }
   ],
   "source": [
    "df"
   ]
  },
  {
   "cell_type": "markdown",
   "metadata": {},
   "source": [
    "## Drop nulls"
   ]
  },
  {
   "cell_type": "code",
   "execution_count": 28,
   "metadata": {},
   "outputs": [],
   "source": [
    "df.dropna(inplace=True)"
   ]
  },
  {
   "cell_type": "code",
   "execution_count": 29,
   "metadata": {},
   "outputs": [
    {
     "data": {
      "text/html": [
       "<div>\n",
       "<style scoped>\n",
       "    .dataframe tbody tr th:only-of-type {\n",
       "        vertical-align: middle;\n",
       "    }\n",
       "\n",
       "    .dataframe tbody tr th {\n",
       "        vertical-align: top;\n",
       "    }\n",
       "\n",
       "    .dataframe thead th {\n",
       "        text-align: right;\n",
       "    }\n",
       "</style>\n",
       "<table border=\"1\" class=\"dataframe\">\n",
       "  <thead>\n",
       "    <tr style=\"text-align: right;\">\n",
       "      <th></th>\n",
       "      <th>Anon Student Id</th>\n",
       "      <th>Problem Name</th>\n",
       "      <th>Step Name</th>\n",
       "      <th>Outcome</th>\n",
       "      <th>KC (WPI-Apr-2005)</th>\n",
       "    </tr>\n",
       "  </thead>\n",
       "  <tbody>\n",
       "    <tr>\n",
       "      <th>9</th>\n",
       "      <td>Stu_00176143fc2991346939888160a9b1ce</td>\n",
       "      <td>1298</td>\n",
       "      <td>Step0:1298:Lee correctly answered 11 out of 13...</td>\n",
       "      <td>CORRECT</td>\n",
       "      <td>Finding-Percents</td>\n",
       "    </tr>\n",
       "    <tr>\n",
       "      <th>10</th>\n",
       "      <td>Stu_00176143fc2991346939888160a9b1ce</td>\n",
       "      <td>1298</td>\n",
       "      <td>Step0:1298:Lee correctly answered 11 out of 13...</td>\n",
       "      <td>CORRECT</td>\n",
       "      <td>Finding-Percents</td>\n",
       "    </tr>\n",
       "    <tr>\n",
       "      <th>13</th>\n",
       "      <td>Stu_00176143fc2991346939888160a9b1ce</td>\n",
       "      <td>5738</td>\n",
       "      <td>Step0:5738:On the grid above, the distance bet...</td>\n",
       "      <td>INCORRECT</td>\n",
       "      <td>Pythagorean-theorem</td>\n",
       "    </tr>\n",
       "    <tr>\n",
       "      <th>14</th>\n",
       "      <td>Stu_00176143fc2991346939888160a9b1ce</td>\n",
       "      <td>5738</td>\n",
       "      <td>Step0:5738:On the grid above, the distance bet...</td>\n",
       "      <td>INCORRECT</td>\n",
       "      <td>Pythagorean-theorem</td>\n",
       "    </tr>\n",
       "    <tr>\n",
       "      <th>15</th>\n",
       "      <td>Stu_00176143fc2991346939888160a9b1ce</td>\n",
       "      <td>5738</td>\n",
       "      <td>Step0:5738:On the grid above, the distance bet...</td>\n",
       "      <td>CORRECT</td>\n",
       "      <td>Pythagorean-theorem</td>\n",
       "    </tr>\n",
       "    <tr>\n",
       "      <th>...</th>\n",
       "      <td>...</td>\n",
       "      <td>...</td>\n",
       "      <td>...</td>\n",
       "      <td>...</td>\n",
       "      <td>...</td>\n",
       "    </tr>\n",
       "    <tr>\n",
       "      <th>685610</th>\n",
       "      <td>Stu_fff5c8fc1e1e08cfd72a0e5122b547d4</td>\n",
       "      <td>1229</td>\n",
       "      <td>Step0:1229:Kathy rode her bicycle from her hou...</td>\n",
       "      <td>INCORRECT</td>\n",
       "      <td>Graph-Shape</td>\n",
       "    </tr>\n",
       "    <tr>\n",
       "      <th>685611</th>\n",
       "      <td>Stu_fff5c8fc1e1e08cfd72a0e5122b547d4</td>\n",
       "      <td>1229</td>\n",
       "      <td>Step1:1230:First, let's determine what the gra...</td>\n",
       "      <td>CORRECT</td>\n",
       "      <td>Graph-Shape</td>\n",
       "    </tr>\n",
       "    <tr>\n",
       "      <th>685612</th>\n",
       "      <td>Stu_fff5c8fc1e1e08cfd72a0e5122b547d4</td>\n",
       "      <td>1229</td>\n",
       "      <td>Step2:1231:Good, now what does a steeper line ...</td>\n",
       "      <td>CORRECT</td>\n",
       "      <td>Graph-Shape</td>\n",
       "    </tr>\n",
       "    <tr>\n",
       "      <th>685613</th>\n",
       "      <td>Stu_fff5c8fc1e1e08cfd72a0e5122b547d4</td>\n",
       "      <td>1229</td>\n",
       "      <td>Step3:1232:Now, Kathy traveled faster on a lev...</td>\n",
       "      <td>CORRECT</td>\n",
       "      <td>Graph-Shape</td>\n",
       "    </tr>\n",
       "    <tr>\n",
       "      <th>685614</th>\n",
       "      <td>Stu_fff5c8fc1e1e08cfd72a0e5122b547d4</td>\n",
       "      <td>1477</td>\n",
       "      <td>Step0:1477:Compute 1/3 x 11/2 SYSTEM</td>\n",
       "      <td>INCORRECT</td>\n",
       "      <td>Equivalent-Fractions-Decimals-Percents</td>\n",
       "    </tr>\n",
       "  </tbody>\n",
       "</table>\n",
       "<p>323388 rows × 5 columns</p>\n",
       "</div>"
      ],
      "text/plain": [
       "                             Anon Student Id  Problem Name  \\\n",
       "9       Stu_00176143fc2991346939888160a9b1ce          1298   \n",
       "10      Stu_00176143fc2991346939888160a9b1ce          1298   \n",
       "13      Stu_00176143fc2991346939888160a9b1ce          5738   \n",
       "14      Stu_00176143fc2991346939888160a9b1ce          5738   \n",
       "15      Stu_00176143fc2991346939888160a9b1ce          5738   \n",
       "...                                      ...           ...   \n",
       "685610  Stu_fff5c8fc1e1e08cfd72a0e5122b547d4          1229   \n",
       "685611  Stu_fff5c8fc1e1e08cfd72a0e5122b547d4          1229   \n",
       "685612  Stu_fff5c8fc1e1e08cfd72a0e5122b547d4          1229   \n",
       "685613  Stu_fff5c8fc1e1e08cfd72a0e5122b547d4          1229   \n",
       "685614  Stu_fff5c8fc1e1e08cfd72a0e5122b547d4          1477   \n",
       "\n",
       "                                                Step Name    Outcome  \\\n",
       "9       Step0:1298:Lee correctly answered 11 out of 13...    CORRECT   \n",
       "10      Step0:1298:Lee correctly answered 11 out of 13...    CORRECT   \n",
       "13      Step0:5738:On the grid above, the distance bet...  INCORRECT   \n",
       "14      Step0:5738:On the grid above, the distance bet...  INCORRECT   \n",
       "15      Step0:5738:On the grid above, the distance bet...    CORRECT   \n",
       "...                                                   ...        ...   \n",
       "685610  Step0:1229:Kathy rode her bicycle from her hou...  INCORRECT   \n",
       "685611  Step1:1230:First, let's determine what the gra...    CORRECT   \n",
       "685612  Step2:1231:Good, now what does a steeper line ...    CORRECT   \n",
       "685613  Step3:1232:Now, Kathy traveled faster on a lev...    CORRECT   \n",
       "685614               Step0:1477:Compute 1/3 x 11/2 SYSTEM  INCORRECT   \n",
       "\n",
       "                             KC (WPI-Apr-2005)  \n",
       "9                             Finding-Percents  \n",
       "10                            Finding-Percents  \n",
       "13                         Pythagorean-theorem  \n",
       "14                         Pythagorean-theorem  \n",
       "15                         Pythagorean-theorem  \n",
       "...                                        ...  \n",
       "685610                             Graph-Shape  \n",
       "685611                             Graph-Shape  \n",
       "685612                             Graph-Shape  \n",
       "685613                             Graph-Shape  \n",
       "685614  Equivalent-Fractions-Decimals-Percents  \n",
       "\n",
       "[323388 rows x 5 columns]"
      ]
     },
     "execution_count": 29,
     "metadata": {},
     "output_type": "execute_result"
    }
   ],
   "source": [
    "df"
   ]
  },
  {
   "cell_type": "code",
   "execution_count": 30,
   "metadata": {},
   "outputs": [
    {
     "data": {
      "text/plain": [
       "323388"
      ]
     },
     "execution_count": 30,
     "metadata": {},
     "output_type": "execute_result"
    }
   ],
   "source": [
    "len(df)"
   ]
  },
  {
   "cell_type": "markdown",
   "metadata": {},
   "source": [
    "## Get the unique step number for each problem name.\n",
    "Explanation: There are multiple steps to each problem name, so we can assign a unique value to each step and this can give us more problems to work with"
   ]
  },
  {
   "cell_type": "code",
   "execution_count": 31,
   "metadata": {},
   "outputs": [],
   "source": [
    "stepnum = []\n",
    "for index, row in df.iterrows():\n",
    "    start = row['Step Name'].find(':') + 1\n",
    "    end = row['Step Name'].find(':', start)\n",
    "    stepnum.append(int(row['Step Name'][start:end]))\n",
    "df['Step Num'] = stepnum"
   ]
  },
  {
   "cell_type": "code",
   "execution_count": 32,
   "metadata": {},
   "outputs": [
    {
     "data": {
      "text/plain": [
       "1187"
      ]
     },
     "execution_count": 32,
     "metadata": {},
     "output_type": "execute_result"
    }
   ],
   "source": [
    "len(df['Step Num'].unique())"
   ]
  },
  {
   "cell_type": "markdown",
   "metadata": {},
   "source": [
    "## Give each categorical variable a unique number starting at 1."
   ]
  },
  {
   "cell_type": "code",
   "execution_count": 33,
   "metadata": {},
   "outputs": [],
   "source": [
    "temp = df['Step Num'].unique().tolist()\n",
    "df['Step Num'] = [(temp.index(item)+1) for item in df['Step Num']]"
   ]
  },
  {
   "cell_type": "code",
   "execution_count": 34,
   "metadata": {},
   "outputs": [],
   "source": [
    "temp = df['Anon Student Id'].unique().tolist()\n",
    "df['Anon Student Id'] = [(temp.index(item)+1) for item in df['Anon Student Id']]"
   ]
  },
  {
   "cell_type": "code",
   "execution_count": 35,
   "metadata": {},
   "outputs": [],
   "source": [
    "temp = df['Problem Name'].unique().tolist()\n",
    "df['Problem Name'] = [(temp.index(item)+1) for item in df['Problem Name']]"
   ]
  },
  {
   "cell_type": "code",
   "execution_count": 36,
   "metadata": {},
   "outputs": [],
   "source": [
    "temp = df['Outcome'].unique().tolist()\n",
    "df['Outcome'] = [temp.index(item) for item in df['Outcome']]"
   ]
  },
  {
   "cell_type": "code",
   "execution_count": 37,
   "metadata": {},
   "outputs": [],
   "source": [
    "temp = df['KC (WPI-Apr-2005)'].unique().tolist()\n",
    "df['KC (WPI-Apr-2005)'] = [(temp.index(item)+1) for item in df['KC (WPI-Apr-2005)']]"
   ]
  },
  {
   "cell_type": "markdown",
   "metadata": {},
   "source": [
    "## Save"
   ]
  },
  {
   "cell_type": "code",
   "execution_count": 38,
   "metadata": {},
   "outputs": [],
   "source": [
    "df.to_csv('processed_data.csv')"
   ]
  },
  {
   "cell_type": "code",
   "execution_count": 39,
   "metadata": {},
   "outputs": [
    {
     "data": {
      "text/html": [
       "<div>\n",
       "<style scoped>\n",
       "    .dataframe tbody tr th:only-of-type {\n",
       "        vertical-align: middle;\n",
       "    }\n",
       "\n",
       "    .dataframe tbody tr th {\n",
       "        vertical-align: top;\n",
       "    }\n",
       "\n",
       "    .dataframe thead th {\n",
       "        text-align: right;\n",
       "    }\n",
       "</style>\n",
       "<table border=\"1\" class=\"dataframe\">\n",
       "  <thead>\n",
       "    <tr style=\"text-align: right;\">\n",
       "      <th></th>\n",
       "      <th>Anon Student Id</th>\n",
       "      <th>Problem Name</th>\n",
       "      <th>Step Name</th>\n",
       "      <th>Outcome</th>\n",
       "      <th>KC (WPI-Apr-2005)</th>\n",
       "      <th>Step Num</th>\n",
       "    </tr>\n",
       "  </thead>\n",
       "  <tbody>\n",
       "    <tr>\n",
       "      <th>9</th>\n",
       "      <td>1</td>\n",
       "      <td>1</td>\n",
       "      <td>Step0:1298:Lee correctly answered 11 out of 13...</td>\n",
       "      <td>0</td>\n",
       "      <td>1</td>\n",
       "      <td>1</td>\n",
       "    </tr>\n",
       "    <tr>\n",
       "      <th>10</th>\n",
       "      <td>1</td>\n",
       "      <td>1</td>\n",
       "      <td>Step0:1298:Lee correctly answered 11 out of 13...</td>\n",
       "      <td>0</td>\n",
       "      <td>1</td>\n",
       "      <td>1</td>\n",
       "    </tr>\n",
       "    <tr>\n",
       "      <th>13</th>\n",
       "      <td>1</td>\n",
       "      <td>2</td>\n",
       "      <td>Step0:5738:On the grid above, the distance bet...</td>\n",
       "      <td>1</td>\n",
       "      <td>2</td>\n",
       "      <td>2</td>\n",
       "    </tr>\n",
       "    <tr>\n",
       "      <th>14</th>\n",
       "      <td>1</td>\n",
       "      <td>2</td>\n",
       "      <td>Step0:5738:On the grid above, the distance bet...</td>\n",
       "      <td>1</td>\n",
       "      <td>2</td>\n",
       "      <td>2</td>\n",
       "    </tr>\n",
       "    <tr>\n",
       "      <th>15</th>\n",
       "      <td>1</td>\n",
       "      <td>2</td>\n",
       "      <td>Step0:5738:On the grid above, the distance bet...</td>\n",
       "      <td>0</td>\n",
       "      <td>2</td>\n",
       "      <td>2</td>\n",
       "    </tr>\n",
       "    <tr>\n",
       "      <th>...</th>\n",
       "      <td>...</td>\n",
       "      <td>...</td>\n",
       "      <td>...</td>\n",
       "      <td>...</td>\n",
       "      <td>...</td>\n",
       "      <td>...</td>\n",
       "    </tr>\n",
       "    <tr>\n",
       "      <th>685610</th>\n",
       "      <td>2833</td>\n",
       "      <td>214</td>\n",
       "      <td>Step0:1229:Kathy rode her bicycle from her hou...</td>\n",
       "      <td>1</td>\n",
       "      <td>36</td>\n",
       "      <td>593</td>\n",
       "    </tr>\n",
       "    <tr>\n",
       "      <th>685611</th>\n",
       "      <td>2833</td>\n",
       "      <td>214</td>\n",
       "      <td>Step1:1230:First, let's determine what the gra...</td>\n",
       "      <td>0</td>\n",
       "      <td>36</td>\n",
       "      <td>594</td>\n",
       "    </tr>\n",
       "    <tr>\n",
       "      <th>685612</th>\n",
       "      <td>2833</td>\n",
       "      <td>214</td>\n",
       "      <td>Step2:1231:Good, now what does a steeper line ...</td>\n",
       "      <td>0</td>\n",
       "      <td>36</td>\n",
       "      <td>595</td>\n",
       "    </tr>\n",
       "    <tr>\n",
       "      <th>685613</th>\n",
       "      <td>2833</td>\n",
       "      <td>214</td>\n",
       "      <td>Step3:1232:Now, Kathy traveled faster on a lev...</td>\n",
       "      <td>0</td>\n",
       "      <td>36</td>\n",
       "      <td>596</td>\n",
       "    </tr>\n",
       "    <tr>\n",
       "      <th>685614</th>\n",
       "      <td>2833</td>\n",
       "      <td>259</td>\n",
       "      <td>Step0:1477:Compute 1/3 x 11/2 SYSTEM</td>\n",
       "      <td>1</td>\n",
       "      <td>25</td>\n",
       "      <td>849</td>\n",
       "    </tr>\n",
       "  </tbody>\n",
       "</table>\n",
       "<p>323388 rows × 6 columns</p>\n",
       "</div>"
      ],
      "text/plain": [
       "        Anon Student Id  Problem Name  \\\n",
       "9                     1             1   \n",
       "10                    1             1   \n",
       "13                    1             2   \n",
       "14                    1             2   \n",
       "15                    1             2   \n",
       "...                 ...           ...   \n",
       "685610             2833           214   \n",
       "685611             2833           214   \n",
       "685612             2833           214   \n",
       "685613             2833           214   \n",
       "685614             2833           259   \n",
       "\n",
       "                                                Step Name  Outcome  \\\n",
       "9       Step0:1298:Lee correctly answered 11 out of 13...        0   \n",
       "10      Step0:1298:Lee correctly answered 11 out of 13...        0   \n",
       "13      Step0:5738:On the grid above, the distance bet...        1   \n",
       "14      Step0:5738:On the grid above, the distance bet...        1   \n",
       "15      Step0:5738:On the grid above, the distance bet...        0   \n",
       "...                                                   ...      ...   \n",
       "685610  Step0:1229:Kathy rode her bicycle from her hou...        1   \n",
       "685611  Step1:1230:First, let's determine what the gra...        0   \n",
       "685612  Step2:1231:Good, now what does a steeper line ...        0   \n",
       "685613  Step3:1232:Now, Kathy traveled faster on a lev...        0   \n",
       "685614               Step0:1477:Compute 1/3 x 11/2 SYSTEM        1   \n",
       "\n",
       "        KC (WPI-Apr-2005)  Step Num  \n",
       "9                       1         1  \n",
       "10                      1         1  \n",
       "13                      2         2  \n",
       "14                      2         2  \n",
       "15                      2         2  \n",
       "...                   ...       ...  \n",
       "685610                 36       593  \n",
       "685611                 36       594  \n",
       "685612                 36       595  \n",
       "685613                 36       596  \n",
       "685614                 25       849  \n",
       "\n",
       "[323388 rows x 6 columns]"
      ]
     },
     "execution_count": 39,
     "metadata": {},
     "output_type": "execute_result"
    }
   ],
   "source": [
    "df"
   ]
  },
  {
   "cell_type": "code",
   "execution_count": 40,
   "metadata": {},
   "outputs": [
    {
     "data": {
      "text/plain": [
       "323388"
      ]
     },
     "execution_count": 40,
     "metadata": {},
     "output_type": "execute_result"
    }
   ],
   "source": [
    "len(df)"
   ]
  },
  {
   "cell_type": "code",
   "execution_count": null,
   "metadata": {},
   "outputs": [],
   "source": []
  }
 ],
 "metadata": {
  "kernelspec": {
   "display_name": "Python 3",
   "language": "python",
   "name": "python3"
  },
  "language_info": {
   "codemirror_mode": {
    "name": "ipython",
    "version": 3
   },
   "file_extension": ".py",
   "mimetype": "text/x-python",
   "name": "python",
   "nbconvert_exporter": "python",
   "pygments_lexer": "ipython3",
   "version": "3.8.5"
  }
 },
 "nbformat": 4,
 "nbformat_minor": 4
}
