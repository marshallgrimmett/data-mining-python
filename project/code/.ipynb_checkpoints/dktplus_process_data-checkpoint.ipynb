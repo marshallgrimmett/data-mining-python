{
 "cells": [
  {
   "cell_type": "markdown",
   "metadata": {},
   "source": [
    "# Pre process data for use with DKT+"
   ]
  },
  {
   "cell_type": "code",
   "execution_count": 1,
   "metadata": {},
   "outputs": [],
   "source": [
    "import pandas as pd\n",
    "import json\n",
    "import numpy as np\n",
    "from sklearn.model_selection import KFold, train_test_split\n",
    "from random import shuffle"
   ]
  },
  {
   "cell_type": "code",
   "execution_count": 2,
   "metadata": {},
   "outputs": [
    {
     "name": "stdout",
     "output_type": "stream",
     "text": [
      "Index(['Unnamed: 0', 'Anon Student Id', 'Problem Name', 'Step Name', 'Outcome',\n",
      "       'KC (WPI-Apr-2005)', 'Step Num'],\n",
      "      dtype='object')\n"
     ]
    }
   ],
   "source": [
    "df = pd.read_csv('processed_data.csv')\n",
    "print(df.columns)"
   ]
  },
  {
   "cell_type": "code",
   "execution_count": 3,
   "metadata": {},
   "outputs": [
    {
     "data": {
      "text/plain": [
       "85"
      ]
     },
     "execution_count": 3,
     "metadata": {},
     "output_type": "execute_result"
    }
   ],
   "source": [
    "len(df['KC (WPI-Apr-2005)'].unique())"
   ]
  },
  {
   "cell_type": "code",
   "execution_count": 4,
   "metadata": {},
   "outputs": [],
   "source": [
    "# df = df.drop(columns=['Unnamed: 0','Step Name','Step Num'])\n",
    "df = df.drop(columns=['Unnamed: 0','Step Name','Problem Name'])\n",
    "df.columns = ['Anon Student Id', 'Outcome', 'KC (WPI-Apr-2005)', 'Problem Name']"
   ]
  },
  {
   "cell_type": "code",
   "execution_count": 5,
   "metadata": {},
   "outputs": [
    {
     "data": {
      "text/html": [
       "<div>\n",
       "<style scoped>\n",
       "    .dataframe tbody tr th:only-of-type {\n",
       "        vertical-align: middle;\n",
       "    }\n",
       "\n",
       "    .dataframe tbody tr th {\n",
       "        vertical-align: top;\n",
       "    }\n",
       "\n",
       "    .dataframe thead th {\n",
       "        text-align: right;\n",
       "    }\n",
       "</style>\n",
       "<table border=\"1\" class=\"dataframe\">\n",
       "  <thead>\n",
       "    <tr style=\"text-align: right;\">\n",
       "      <th></th>\n",
       "      <th>Anon Student Id</th>\n",
       "      <th>Outcome</th>\n",
       "      <th>KC (WPI-Apr-2005)</th>\n",
       "      <th>Problem Name</th>\n",
       "    </tr>\n",
       "  </thead>\n",
       "  <tbody>\n",
       "    <tr>\n",
       "      <th>0</th>\n",
       "      <td>1</td>\n",
       "      <td>0</td>\n",
       "      <td>1</td>\n",
       "      <td>1</td>\n",
       "    </tr>\n",
       "    <tr>\n",
       "      <th>1</th>\n",
       "      <td>1</td>\n",
       "      <td>0</td>\n",
       "      <td>1</td>\n",
       "      <td>1</td>\n",
       "    </tr>\n",
       "    <tr>\n",
       "      <th>2</th>\n",
       "      <td>1</td>\n",
       "      <td>1</td>\n",
       "      <td>2</td>\n",
       "      <td>2</td>\n",
       "    </tr>\n",
       "    <tr>\n",
       "      <th>3</th>\n",
       "      <td>1</td>\n",
       "      <td>1</td>\n",
       "      <td>2</td>\n",
       "      <td>2</td>\n",
       "    </tr>\n",
       "    <tr>\n",
       "      <th>4</th>\n",
       "      <td>1</td>\n",
       "      <td>0</td>\n",
       "      <td>2</td>\n",
       "      <td>2</td>\n",
       "    </tr>\n",
       "    <tr>\n",
       "      <th>...</th>\n",
       "      <td>...</td>\n",
       "      <td>...</td>\n",
       "      <td>...</td>\n",
       "      <td>...</td>\n",
       "    </tr>\n",
       "    <tr>\n",
       "      <th>323383</th>\n",
       "      <td>2833</td>\n",
       "      <td>1</td>\n",
       "      <td>36</td>\n",
       "      <td>593</td>\n",
       "    </tr>\n",
       "    <tr>\n",
       "      <th>323384</th>\n",
       "      <td>2833</td>\n",
       "      <td>0</td>\n",
       "      <td>36</td>\n",
       "      <td>594</td>\n",
       "    </tr>\n",
       "    <tr>\n",
       "      <th>323385</th>\n",
       "      <td>2833</td>\n",
       "      <td>0</td>\n",
       "      <td>36</td>\n",
       "      <td>595</td>\n",
       "    </tr>\n",
       "    <tr>\n",
       "      <th>323386</th>\n",
       "      <td>2833</td>\n",
       "      <td>0</td>\n",
       "      <td>36</td>\n",
       "      <td>596</td>\n",
       "    </tr>\n",
       "    <tr>\n",
       "      <th>323387</th>\n",
       "      <td>2833</td>\n",
       "      <td>1</td>\n",
       "      <td>25</td>\n",
       "      <td>849</td>\n",
       "    </tr>\n",
       "  </tbody>\n",
       "</table>\n",
       "<p>323388 rows × 4 columns</p>\n",
       "</div>"
      ],
      "text/plain": [
       "        Anon Student Id  Outcome  KC (WPI-Apr-2005)  Problem Name\n",
       "0                     1        0                  1             1\n",
       "1                     1        0                  1             1\n",
       "2                     1        1                  2             2\n",
       "3                     1        1                  2             2\n",
       "4                     1        0                  2             2\n",
       "...                 ...      ...                ...           ...\n",
       "323383             2833        1                 36           593\n",
       "323384             2833        0                 36           594\n",
       "323385             2833        0                 36           595\n",
       "323386             2833        0                 36           596\n",
       "323387             2833        1                 25           849\n",
       "\n",
       "[323388 rows x 4 columns]"
      ]
     },
     "execution_count": 5,
     "metadata": {},
     "output_type": "execute_result"
    }
   ],
   "source": [
    "df"
   ]
  },
  {
   "cell_type": "markdown",
   "metadata": {},
   "source": [
    "## Split the data into training and testing sets."
   ]
  },
  {
   "cell_type": "markdown",
   "metadata": {},
   "source": [
    "#### First we need put the data into the correct format. We need to get all the problems and outcomes for each student and put them on 3 seperate lines in a comma seperated list.\n",
    "number of problems attempted\n",
    "\n",
    "problems\n",
    "\n",
    "outcomes\n",
    "\n",
    "#### Each student will take up 3 lines"
   ]
  },
  {
   "cell_type": "code",
   "execution_count": 6,
   "metadata": {},
   "outputs": [],
   "source": [
    "f = open('dktplus_processed_data.csv', \"w\")\n",
    "students = df['Anon Student Id'].unique().tolist()\n",
    "# shuffle(students)\n",
    "\n",
    "for i, student in enumerate(students):\n",
    "    studentDf = df.loc[df['Anon Student Id'] == student]\n",
    "    f.write(str(len(studentDf)) + '\\n')\n",
    "    # problem\n",
    "    temp = studentDf['Problem Name']\n",
    "    temp = [str(element) for element in temp]\n",
    "    temp = ','.join(temp)\n",
    "    f.write(temp + '\\n')\n",
    "    # outcome\n",
    "    temp = studentDf['Outcome']\n",
    "    temp = [str(element) for element in temp]\n",
    "    temp = ','.join(temp)\n",
    "    f.write(temp + '\\n')\n",
    "\n",
    "f.close()"
   ]
  },
  {
   "cell_type": "markdown",
   "metadata": {},
   "source": [
    "# split into train/test"
   ]
  },
  {
   "cell_type": "code",
   "execution_count": 7,
   "metadata": {},
   "outputs": [],
   "source": [
    "f = open('dktplus_processed_data.csv', 'r')\n",
    "\n",
    "for i in range(2833):\n",
    "    if i == 0:\n",
    "        f2 = open('dktplus_processed_data_train.csv', 'w')\n",
    "    elif i == 1984:\n",
    "        f2.close()\n",
    "        f2 = open('dktplus_processed_data_test.csv', 'w')\n",
    "    f2.write(f.readline())\n",
    "    f2.write(f.readline())\n",
    "    f2.write(f.readline())\n",
    "\n",
    "f2.close()\n",
    "f.close()"
   ]
  },
  {
   "cell_type": "code",
   "execution_count": null,
   "metadata": {},
   "outputs": [],
   "source": []
  }
 ],
 "metadata": {
  "kernelspec": {
   "display_name": "Python 3",
   "language": "python",
   "name": "python3"
  },
  "language_info": {
   "codemirror_mode": {
    "name": "ipython",
    "version": 3
   },
   "file_extension": ".py",
   "mimetype": "text/x-python",
   "name": "python",
   "nbconvert_exporter": "python",
   "pygments_lexer": "ipython3",
   "version": "3.8.5"
  }
 },
 "nbformat": 4,
 "nbformat_minor": 4
}
