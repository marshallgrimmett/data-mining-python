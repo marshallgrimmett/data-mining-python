{
 "cells": [
  {
   "cell_type": "markdown",
   "metadata": {},
   "source": [
    "# Pre processing the dataset for DKT"
   ]
  },
  {
   "cell_type": "code",
   "execution_count": 151,
   "metadata": {},
   "outputs": [],
   "source": [
    "import pandas as pd\n",
    "import json\n",
    "from sklearn.model_selection import train_test_split"
   ]
  },
  {
   "cell_type": "code",
   "execution_count": 152,
   "metadata": {},
   "outputs": [
    {
     "name": "stdout",
     "output_type": "stream",
     "text": [
      "Index(['Unnamed: 0', 'Anon Student Id', 'Problem Name', 'Step Name', 'Outcome',\n",
      "       'KC (WPI-Apr-2005)', 'Step Num'],\n",
      "      dtype='object')\n"
     ]
    }
   ],
   "source": [
    "df = pd.read_csv('processed_data.csv')\n",
    "print(df.columns)"
   ]
  },
  {
   "cell_type": "markdown",
   "metadata": {},
   "source": [
    "## Drop columns we don't need and rename them accordingly\n",
    "### Note: If we want to use Step Num instead of Step Name, just switch out the commented code below."
   ]
  },
  {
   "cell_type": "code",
   "execution_count": 153,
   "metadata": {},
   "outputs": [],
   "source": [
    "# df = df.drop(columns=['Unnamed: 0','Step Name', 'Problem Name'])\n",
    "# df.columns = ['user_id', 'score', 'knowledge_code', 'exer_id']\n",
    "df = df.drop(columns=['Unnamed: 0','Step Name', 'Step Num'])\n",
    "df.columns = ['user_id', 'exer_id', 'score', 'knowledge_code']"
   ]
  },
  {
   "cell_type": "code",
   "execution_count": 154,
   "metadata": {},
   "outputs": [
    {
     "data": {
      "text/html": [
       "<div>\n",
       "<style scoped>\n",
       "    .dataframe tbody tr th:only-of-type {\n",
       "        vertical-align: middle;\n",
       "    }\n",
       "\n",
       "    .dataframe tbody tr th {\n",
       "        vertical-align: top;\n",
       "    }\n",
       "\n",
       "    .dataframe thead th {\n",
       "        text-align: right;\n",
       "    }\n",
       "</style>\n",
       "<table border=\"1\" class=\"dataframe\">\n",
       "  <thead>\n",
       "    <tr style=\"text-align: right;\">\n",
       "      <th></th>\n",
       "      <th>user_id</th>\n",
       "      <th>exer_id</th>\n",
       "      <th>score</th>\n",
       "      <th>knowledge_code</th>\n",
       "    </tr>\n",
       "  </thead>\n",
       "  <tbody>\n",
       "    <tr>\n",
       "      <th>0</th>\n",
       "      <td>1</td>\n",
       "      <td>1</td>\n",
       "      <td>0</td>\n",
       "      <td>1</td>\n",
       "    </tr>\n",
       "    <tr>\n",
       "      <th>1</th>\n",
       "      <td>1</td>\n",
       "      <td>1</td>\n",
       "      <td>0</td>\n",
       "      <td>1</td>\n",
       "    </tr>\n",
       "    <tr>\n",
       "      <th>2</th>\n",
       "      <td>1</td>\n",
       "      <td>2</td>\n",
       "      <td>1</td>\n",
       "      <td>2</td>\n",
       "    </tr>\n",
       "    <tr>\n",
       "      <th>3</th>\n",
       "      <td>1</td>\n",
       "      <td>2</td>\n",
       "      <td>1</td>\n",
       "      <td>2</td>\n",
       "    </tr>\n",
       "    <tr>\n",
       "      <th>4</th>\n",
       "      <td>1</td>\n",
       "      <td>2</td>\n",
       "      <td>0</td>\n",
       "      <td>2</td>\n",
       "    </tr>\n",
       "    <tr>\n",
       "      <th>...</th>\n",
       "      <td>...</td>\n",
       "      <td>...</td>\n",
       "      <td>...</td>\n",
       "      <td>...</td>\n",
       "    </tr>\n",
       "    <tr>\n",
       "      <th>323383</th>\n",
       "      <td>2833</td>\n",
       "      <td>214</td>\n",
       "      <td>1</td>\n",
       "      <td>36</td>\n",
       "    </tr>\n",
       "    <tr>\n",
       "      <th>323384</th>\n",
       "      <td>2833</td>\n",
       "      <td>214</td>\n",
       "      <td>0</td>\n",
       "      <td>36</td>\n",
       "    </tr>\n",
       "    <tr>\n",
       "      <th>323385</th>\n",
       "      <td>2833</td>\n",
       "      <td>214</td>\n",
       "      <td>0</td>\n",
       "      <td>36</td>\n",
       "    </tr>\n",
       "    <tr>\n",
       "      <th>323386</th>\n",
       "      <td>2833</td>\n",
       "      <td>214</td>\n",
       "      <td>0</td>\n",
       "      <td>36</td>\n",
       "    </tr>\n",
       "    <tr>\n",
       "      <th>323387</th>\n",
       "      <td>2833</td>\n",
       "      <td>259</td>\n",
       "      <td>1</td>\n",
       "      <td>25</td>\n",
       "    </tr>\n",
       "  </tbody>\n",
       "</table>\n",
       "<p>323388 rows × 4 columns</p>\n",
       "</div>"
      ],
      "text/plain": [
       "        user_id  exer_id  score  knowledge_code\n",
       "0             1        1      0               1\n",
       "1             1        1      0               1\n",
       "2             1        2      1               2\n",
       "3             1        2      1               2\n",
       "4             1        2      0               2\n",
       "...         ...      ...    ...             ...\n",
       "323383     2833      214      1              36\n",
       "323384     2833      214      0              36\n",
       "323385     2833      214      0              36\n",
       "323386     2833      214      0              36\n",
       "323387     2833      259      1              25\n",
       "\n",
       "[323388 rows x 4 columns]"
      ]
     },
     "execution_count": 154,
     "metadata": {},
     "output_type": "execute_result"
    }
   ],
   "source": [
    "df"
   ]
  },
  {
   "cell_type": "code",
   "execution_count": 155,
   "metadata": {},
   "outputs": [
    {
     "data": {
      "text/plain": [
       "user_id           int64\n",
       "exer_id           int64\n",
       "score             int64\n",
       "knowledge_code    int64\n",
       "dtype: object"
      ]
     },
     "execution_count": 155,
     "metadata": {},
     "output_type": "execute_result"
    }
   ],
   "source": [
    "df.dtypes"
   ]
  },
  {
   "cell_type": "markdown",
   "metadata": {},
   "source": [
    "# Analyze sample datasets\n",
    "To get a good idea on the train/test split and how our data differs."
   ]
  },
  {
   "cell_type": "code",
   "execution_count": null,
   "metadata": {},
   "outputs": [],
   "source": [
    "with open('dkt/data_old/log_data.json') as f:\n",
    "    data = json.load(f)\n",
    "\n",
    "users = []\n",
    "for user in data:\n",
    "    for log in user['logs']:\n",
    "        users.append(log['exer_id'])\n",
    "#         for kc in log['knowledge_code']:\n",
    "#             users.append(kc)\n",
    "# print(set(users))"
   ]
  },
  {
   "cell_type": "code",
   "execution_count": 10,
   "metadata": {},
   "outputs": [
    {
     "name": "stdout",
     "output_type": "stream",
     "text": [
      "278868\n"
     ]
    }
   ],
   "source": [
    "with open('dkt/data/log_data.json') as f:\n",
    "    data = json.load(f)\n",
    "\n",
    "total_rows = 0\n",
    "for user in data:\n",
    "    total_rows += user['log_num']\n",
    "print(total_rows)"
   ]
  },
  {
   "cell_type": "code",
   "execution_count": 11,
   "metadata": {},
   "outputs": [
    {
     "name": "stdout",
     "output_type": "stream",
     "text": [
      "55760\n"
     ]
    }
   ],
   "source": [
    "with open('dkt/data/test_set.json') as f:\n",
    "    data = json.load(f)\n",
    "\n",
    "total_rows = 0\n",
    "for user in data:\n",
    "    total_rows += user['log_num']\n",
    "print(total_rows)"
   ]
  },
  {
   "cell_type": "code",
   "execution_count": 12,
   "metadata": {},
   "outputs": [
    {
     "name": "stdout",
     "output_type": "stream",
     "text": [
      "186049\n"
     ]
    }
   ],
   "source": [
    "with open('dkt/data/train_slice.json') as f:\n",
    "    data = json.load(f)\n",
    "\n",
    "total_rows = 0\n",
    "for user in data:\n",
    "    total_rows += user['log_num']\n",
    "print(total_rows)"
   ]
  },
  {
   "cell_type": "code",
   "execution_count": 13,
   "metadata": {},
   "outputs": [
    {
     "name": "stdout",
     "output_type": "stream",
     "text": [
      "186049\n"
     ]
    }
   ],
   "source": [
    "with open('dkt/data/train_set.json') as f:\n",
    "    data = json.load(f)\n",
    "\n",
    "total_rows = 0\n",
    "for user in data:\n",
    "    total_rows += 1\n",
    "print(total_rows)"
   ]
  },
  {
   "cell_type": "code",
   "execution_count": 14,
   "metadata": {},
   "outputs": [
    {
     "name": "stdout",
     "output_type": "stream",
     "text": [
      "25606\n"
     ]
    }
   ],
   "source": [
    "with open('dkt/data/val_set.json') as f:\n",
    "    data = json.load(f)\n",
    "\n",
    "total_rows = 0\n",
    "for user in data:\n",
    "    total_rows += user['log_num']\n",
    "print(total_rows)"
   ]
  },
  {
   "cell_type": "markdown",
   "metadata": {},
   "source": [
    "# Split data and convert to json format"
   ]
  },
  {
   "cell_type": "code",
   "execution_count": 156,
   "metadata": {},
   "outputs": [],
   "source": [
    "df['score'] = df['score'].astype(float)"
   ]
  },
  {
   "cell_type": "code",
   "execution_count": 157,
   "metadata": {},
   "outputs": [
    {
     "data": {
      "text/html": [
       "<div>\n",
       "<style scoped>\n",
       "    .dataframe tbody tr th:only-of-type {\n",
       "        vertical-align: middle;\n",
       "    }\n",
       "\n",
       "    .dataframe tbody tr th {\n",
       "        vertical-align: top;\n",
       "    }\n",
       "\n",
       "    .dataframe thead th {\n",
       "        text-align: right;\n",
       "    }\n",
       "</style>\n",
       "<table border=\"1\" class=\"dataframe\">\n",
       "  <thead>\n",
       "    <tr style=\"text-align: right;\">\n",
       "      <th></th>\n",
       "      <th>user_id</th>\n",
       "      <th>exer_id</th>\n",
       "      <th>score</th>\n",
       "      <th>knowledge_code</th>\n",
       "    </tr>\n",
       "  </thead>\n",
       "  <tbody>\n",
       "    <tr>\n",
       "      <th>0</th>\n",
       "      <td>1</td>\n",
       "      <td>1</td>\n",
       "      <td>0.0</td>\n",
       "      <td>1</td>\n",
       "    </tr>\n",
       "    <tr>\n",
       "      <th>1</th>\n",
       "      <td>1</td>\n",
       "      <td>1</td>\n",
       "      <td>0.0</td>\n",
       "      <td>1</td>\n",
       "    </tr>\n",
       "    <tr>\n",
       "      <th>2</th>\n",
       "      <td>1</td>\n",
       "      <td>2</td>\n",
       "      <td>1.0</td>\n",
       "      <td>2</td>\n",
       "    </tr>\n",
       "    <tr>\n",
       "      <th>3</th>\n",
       "      <td>1</td>\n",
       "      <td>2</td>\n",
       "      <td>1.0</td>\n",
       "      <td>2</td>\n",
       "    </tr>\n",
       "    <tr>\n",
       "      <th>4</th>\n",
       "      <td>1</td>\n",
       "      <td>2</td>\n",
       "      <td>0.0</td>\n",
       "      <td>2</td>\n",
       "    </tr>\n",
       "    <tr>\n",
       "      <th>...</th>\n",
       "      <td>...</td>\n",
       "      <td>...</td>\n",
       "      <td>...</td>\n",
       "      <td>...</td>\n",
       "    </tr>\n",
       "    <tr>\n",
       "      <th>323383</th>\n",
       "      <td>2833</td>\n",
       "      <td>214</td>\n",
       "      <td>1.0</td>\n",
       "      <td>36</td>\n",
       "    </tr>\n",
       "    <tr>\n",
       "      <th>323384</th>\n",
       "      <td>2833</td>\n",
       "      <td>214</td>\n",
       "      <td>0.0</td>\n",
       "      <td>36</td>\n",
       "    </tr>\n",
       "    <tr>\n",
       "      <th>323385</th>\n",
       "      <td>2833</td>\n",
       "      <td>214</td>\n",
       "      <td>0.0</td>\n",
       "      <td>36</td>\n",
       "    </tr>\n",
       "    <tr>\n",
       "      <th>323386</th>\n",
       "      <td>2833</td>\n",
       "      <td>214</td>\n",
       "      <td>0.0</td>\n",
       "      <td>36</td>\n",
       "    </tr>\n",
       "    <tr>\n",
       "      <th>323387</th>\n",
       "      <td>2833</td>\n",
       "      <td>259</td>\n",
       "      <td>1.0</td>\n",
       "      <td>25</td>\n",
       "    </tr>\n",
       "  </tbody>\n",
       "</table>\n",
       "<p>323388 rows × 4 columns</p>\n",
       "</div>"
      ],
      "text/plain": [
       "        user_id  exer_id  score  knowledge_code\n",
       "0             1        1    0.0               1\n",
       "1             1        1    0.0               1\n",
       "2             1        2    1.0               2\n",
       "3             1        2    1.0               2\n",
       "4             1        2    0.0               2\n",
       "...         ...      ...    ...             ...\n",
       "323383     2833      214    1.0              36\n",
       "323384     2833      214    0.0              36\n",
       "323385     2833      214    0.0              36\n",
       "323386     2833      214    0.0              36\n",
       "323387     2833      259    1.0              25\n",
       "\n",
       "[323388 rows x 4 columns]"
      ]
     },
     "execution_count": 157,
     "metadata": {},
     "output_type": "execute_result"
    }
   ],
   "source": [
    "df"
   ]
  },
  {
   "cell_type": "code",
   "execution_count": 165,
   "metadata": {},
   "outputs": [
    {
     "name": "stdout",
     "output_type": "stream",
     "text": [
      "385\n",
      "85\n",
      "2833\n"
     ]
    }
   ],
   "source": [
    "print(len(df['exer_id'].unique()))\n",
    "print(len(df['knowledge_code'].unique()))\n",
    "print(len(df['user_id'].unique()))"
   ]
  },
  {
   "cell_type": "code",
   "execution_count": 159,
   "metadata": {},
   "outputs": [],
   "source": [
    "df.sample(frac=1)\n",
    "df_train, df_test = train_test_split(df, test_size=0.4, random_state=1)\n",
    "df_test, df_valid = train_test_split(df_test, test_size=0.5, random_state=1)"
   ]
  },
  {
   "cell_type": "code",
   "execution_count": 160,
   "metadata": {},
   "outputs": [],
   "source": [
    "result = df_train.to_json(orient=\"records\")\n",
    "parsed = json.loads(result)\n",
    "for record in parsed:\n",
    "    record['knowledge_code'] = [record['knowledge_code']]\n",
    "with open('dkt/data/train_set.json', 'w') as outfile:\n",
    "    json.dump(parsed, outfile, indent=4)"
   ]
  },
  {
   "cell_type": "code",
   "execution_count": 161,
   "metadata": {},
   "outputs": [],
   "source": [
    "users = df_test['user_id'].unique().tolist()\n",
    "result = df_test.to_json(orient=\"records\")\n",
    "parsed = json.loads(result)\n",
    "\n",
    "res = [{\"user_id\": i,\"log_num\": 0,\"logs\": []} for i in users]\n",
    "for i, user in enumerate(users):\n",
    "    for record in parsed:\n",
    "        if record['user_id'] == user:\n",
    "            record['knowledge_code'] = [record['knowledge_code']]\n",
    "            new_dict = {key:val for key, val in record.items() if key != 'user_id'} \n",
    "            res[i]['logs'].append(new_dict)\n",
    "            res[i]['log_num'] += 1\n",
    "\n",
    "with open('dkt/data/test_set.json', 'w') as outfile:\n",
    "    json.dump(res, outfile, indent=4)"
   ]
  },
  {
   "cell_type": "code",
   "execution_count": 162,
   "metadata": {},
   "outputs": [],
   "source": [
    "users = df_valid['user_id'].unique().tolist()\n",
    "result = df_valid.to_json(orient=\"records\")\n",
    "parsed = json.loads(result)\n",
    "\n",
    "res = [{\"user_id\": i,\"log_num\": 0,\"logs\": []} for i in users]\n",
    "for i, user in enumerate(users):\n",
    "    for record in parsed:\n",
    "        if record['user_id'] == user:\n",
    "            record['knowledge_code'] = [record['knowledge_code']]\n",
    "            new_dict = {key:val for key, val in record.items() if key != 'user_id'} \n",
    "            res[i]['logs'].append(new_dict)\n",
    "            res[i]['log_num'] += 1\n",
    "\n",
    "with open('dkt/data/val_set.json', 'w') as outfile:\n",
    "    json.dump(res, outfile, indent=4)"
   ]
  },
  {
   "cell_type": "code",
   "execution_count": 163,
   "metadata": {},
   "outputs": [],
   "source": [
    "users = df['user_id'].unique().tolist()\n",
    "result = df.to_json(orient=\"records\")\n",
    "parsed = json.loads(result)\n",
    "\n",
    "res = [{\"user_id\": i,\"log_num\": 0,\"logs\": []} for i in users]\n",
    "for i, user in enumerate(users):\n",
    "    for record in parsed:\n",
    "        if record['user_id'] == user:\n",
    "            record['knowledge_code'] = [record['knowledge_code']]\n",
    "            new_dict = {key:val for key, val in record.items() if key != 'user_id'} \n",
    "            res[i]['logs'].append(new_dict)\n",
    "            res[i]['log_num'] += 1\n",
    "\n",
    "with open('dkt/data/log_data.json', 'w') as outfile:\n",
    "    json.dump(res, outfile, indent=4)"
   ]
  },
  {
   "cell_type": "code",
   "execution_count": 164,
   "metadata": {},
   "outputs": [],
   "source": [
    "users = df_train['user_id'].unique().tolist()\n",
    "result = df_train.to_json(orient=\"records\")\n",
    "parsed = json.loads(result)\n",
    "\n",
    "res = [{\"user_id\": i,\"log_num\": 0,\"logs\": []} for i in users]\n",
    "for i, user in enumerate(users):\n",
    "    for record in parsed:\n",
    "        if record['user_id'] == user:\n",
    "            record['knowledge_code'] = [record['knowledge_code']]\n",
    "            new_dict = {key:val for key, val in record.items() if key != 'user_id'} \n",
    "            res[i]['logs'].append(new_dict)\n",
    "            res[i]['log_num'] += 1\n",
    "\n",
    "with open('dkt/data/train_slice.json', 'w') as outfile:\n",
    "    json.dump(res, outfile, indent=4)"
   ]
  },
  {
   "cell_type": "code",
   "execution_count": null,
   "metadata": {},
   "outputs": [],
   "source": []
  }
 ],
 "metadata": {
  "kernelspec": {
   "display_name": "Python 3",
   "language": "python",
   "name": "python3"
  },
  "language_info": {
   "codemirror_mode": {
    "name": "ipython",
    "version": 3
   },
   "file_extension": ".py",
   "mimetype": "text/x-python",
   "name": "python",
   "nbconvert_exporter": "python",
   "pygments_lexer": "ipython3",
   "version": "3.8.5"
  }
 },
 "nbformat": 4,
 "nbformat_minor": 4
}
