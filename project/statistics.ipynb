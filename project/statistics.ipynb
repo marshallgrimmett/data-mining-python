{
 "cells": [
  {
   "cell_type": "code",
   "execution_count": 4,
   "metadata": {},
   "outputs": [],
   "source": [
    "import json\n",
    "import pandas as pd\n",
    "from ludwig.utils import data_utils\n",
    "\n",
    "all_users = {}\n",
    "all_problems = {}\n",
    "all_concepts = {}\n",
    "\n",
    "df = data_utils.read_csv(\"data.csv\")"
   ]
  },
  {
   "cell_type": "code",
   "execution_count": 5,
   "metadata": {},
   "outputs": [
    {
     "ename": "KeyboardInterrupt",
     "evalue": "",
     "output_type": "error",
     "traceback": [
      "\u001b[1;31m---------------------------------------------------------------------------\u001b[0m",
      "\u001b[1;31mKeyboardInterrupt\u001b[0m                         Traceback (most recent call last)",
      "\u001b[1;32m<ipython-input-5-8ddc4530532a>\u001b[0m in \u001b[0;36m<module>\u001b[1;34m\u001b[0m\n\u001b[1;32m----> 1\u001b[1;33m \u001b[0mremoving_duplicate_users\u001b[0m \u001b[1;33m=\u001b[0m \u001b[1;33m[\u001b[0m\u001b[0mi\u001b[0m \u001b[1;32mfor\u001b[0m \u001b[0mn\u001b[0m\u001b[1;33m,\u001b[0m \u001b[0mi\u001b[0m \u001b[1;32min\u001b[0m \u001b[0menumerate\u001b[0m\u001b[1;33m(\u001b[0m\u001b[0mdf\u001b[0m\u001b[1;33m[\u001b[0m\u001b[1;34m'Anon Student Id'\u001b[0m\u001b[1;33m]\u001b[0m\u001b[1;33m.\u001b[0m\u001b[0mtolist\u001b[0m\u001b[1;33m(\u001b[0m\u001b[1;33m)\u001b[0m\u001b[1;33m)\u001b[0m \u001b[1;32mif\u001b[0m \u001b[0mi\u001b[0m \u001b[1;32mnot\u001b[0m \u001b[1;32min\u001b[0m \u001b[0mdf\u001b[0m\u001b[1;33m[\u001b[0m\u001b[1;34m'Anon Student Id'\u001b[0m\u001b[1;33m]\u001b[0m\u001b[1;33m.\u001b[0m\u001b[0mtolist\u001b[0m\u001b[1;33m(\u001b[0m\u001b[1;33m)\u001b[0m\u001b[1;33m[\u001b[0m\u001b[1;33m:\u001b[0m\u001b[0mn\u001b[0m\u001b[1;33m]\u001b[0m\u001b[1;33m]\u001b[0m\u001b[1;33m\u001b[0m\u001b[1;33m\u001b[0m\u001b[0m\n\u001b[0m\u001b[0;32m      2\u001b[0m \u001b[0mcount_user\u001b[0m \u001b[1;33m=\u001b[0m \u001b[1;36m1\u001b[0m\u001b[1;33m\u001b[0m\u001b[1;33m\u001b[0m\u001b[0m\n\u001b[0;32m      3\u001b[0m \u001b[1;32mfor\u001b[0m \u001b[0mi\u001b[0m \u001b[1;32min\u001b[0m \u001b[0mremoving_duplicate_users\u001b[0m\u001b[1;33m:\u001b[0m\u001b[1;33m\u001b[0m\u001b[1;33m\u001b[0m\u001b[0m\n\u001b[0;32m      4\u001b[0m     \u001b[0mall_users\u001b[0m\u001b[1;33m[\u001b[0m\u001b[0mi\u001b[0m\u001b[1;33m]\u001b[0m \u001b[1;33m=\u001b[0m \u001b[0mcount_user\u001b[0m\u001b[1;33m\u001b[0m\u001b[1;33m\u001b[0m\u001b[0m\n\u001b[0;32m      5\u001b[0m     \u001b[0mcount_user\u001b[0m \u001b[1;33m+=\u001b[0m \u001b[1;36m1\u001b[0m\u001b[1;33m\u001b[0m\u001b[1;33m\u001b[0m\u001b[0m\n",
      "\u001b[1;32m<ipython-input-5-8ddc4530532a>\u001b[0m in \u001b[0;36m<listcomp>\u001b[1;34m(.0)\u001b[0m\n\u001b[1;32m----> 1\u001b[1;33m \u001b[0mremoving_duplicate_users\u001b[0m \u001b[1;33m=\u001b[0m \u001b[1;33m[\u001b[0m\u001b[0mi\u001b[0m \u001b[1;32mfor\u001b[0m \u001b[0mn\u001b[0m\u001b[1;33m,\u001b[0m \u001b[0mi\u001b[0m \u001b[1;32min\u001b[0m \u001b[0menumerate\u001b[0m\u001b[1;33m(\u001b[0m\u001b[0mdf\u001b[0m\u001b[1;33m[\u001b[0m\u001b[1;34m'Anon Student Id'\u001b[0m\u001b[1;33m]\u001b[0m\u001b[1;33m.\u001b[0m\u001b[0mtolist\u001b[0m\u001b[1;33m(\u001b[0m\u001b[1;33m)\u001b[0m\u001b[1;33m)\u001b[0m \u001b[1;32mif\u001b[0m \u001b[0mi\u001b[0m \u001b[1;32mnot\u001b[0m \u001b[1;32min\u001b[0m \u001b[0mdf\u001b[0m\u001b[1;33m[\u001b[0m\u001b[1;34m'Anon Student Id'\u001b[0m\u001b[1;33m]\u001b[0m\u001b[1;33m.\u001b[0m\u001b[0mtolist\u001b[0m\u001b[1;33m(\u001b[0m\u001b[1;33m)\u001b[0m\u001b[1;33m[\u001b[0m\u001b[1;33m:\u001b[0m\u001b[0mn\u001b[0m\u001b[1;33m]\u001b[0m\u001b[1;33m]\u001b[0m\u001b[1;33m\u001b[0m\u001b[1;33m\u001b[0m\u001b[0m\n\u001b[0m\u001b[0;32m      2\u001b[0m \u001b[0mcount_user\u001b[0m \u001b[1;33m=\u001b[0m \u001b[1;36m1\u001b[0m\u001b[1;33m\u001b[0m\u001b[1;33m\u001b[0m\u001b[0m\n\u001b[0;32m      3\u001b[0m \u001b[1;32mfor\u001b[0m \u001b[0mi\u001b[0m \u001b[1;32min\u001b[0m \u001b[0mremoving_duplicate_users\u001b[0m\u001b[1;33m:\u001b[0m\u001b[1;33m\u001b[0m\u001b[1;33m\u001b[0m\u001b[0m\n\u001b[0;32m      4\u001b[0m     \u001b[0mall_users\u001b[0m\u001b[1;33m[\u001b[0m\u001b[0mi\u001b[0m\u001b[1;33m]\u001b[0m \u001b[1;33m=\u001b[0m \u001b[0mcount_user\u001b[0m\u001b[1;33m\u001b[0m\u001b[1;33m\u001b[0m\u001b[0m\n\u001b[0;32m      5\u001b[0m     \u001b[0mcount_user\u001b[0m \u001b[1;33m+=\u001b[0m \u001b[1;36m1\u001b[0m\u001b[1;33m\u001b[0m\u001b[1;33m\u001b[0m\u001b[0m\n",
      "\u001b[1;31mKeyboardInterrupt\u001b[0m: "
     ]
    }
   ],
   "source": [
    "removing_duplicate_users = [i for n, i in enumerate(df['Anon Student Id'].tolist()) if i not in df['Anon Student Id'].tolist()[:n]]\n",
    "count_user = 1\n",
    "for i in removing_duplicate_users:\n",
    "    all_users[i] = count_user\n",
    "    count_user += 1\n",
    "# json_users = json.dumps(all_users, indent = 2)\n",
    "all_users\n",
    "#---------------------------------------------------------------------------------------"
   ]
  },
  {
   "cell_type": "code",
   "execution_count": null,
   "metadata": {},
   "outputs": [],
   "source": [
    "removing_duplicate_problems = [i for n, i in enumerate(df['Problem Name'].tolist()) if i not in df['Problem Name'].tolist()[:n]]\n",
    "count_problem = 1\n",
    "for i in removing_duplicate_problems:\n",
    "    all_problems[i] = count_problem\n",
    "    count_problem += 1\n",
    "json_problems = json.dumps(all_problems, indent = 2)\n",
    "#---------------------------------------------------------------------------------------"
   ]
  },
  {
   "cell_type": "code",
   "execution_count": null,
   "metadata": {},
   "outputs": [],
   "source": [
    "cleanedList1 = [x for x in df['KC (WPI-Apr-2005)'].tolist() if str(x) != 'nan']\n",
    "cleanedList2 = [x for x in df['KC (WPI-Apr-2005).1'].tolist() if str(x) != 'nan']\n",
    "cleanedList3 = [x for x in df['KC (skills_from_dataframe).2'].tolist() if str(x) != 'nan']\n",
    "cleanedList4 = [x for x in df['KC (skills_from_dataframe).3'].tolist() if str(x) != 'nan']\n",
    "cleanedList5 = [x for x in df['KC (skills_from_dataframe).4'].tolist() if str(x) != 'nan']\n",
    "cleanedList6 = [x for x in df['KC (skills_from_dataframe).5'].tolist() if str(x) != 'nan']\n",
    "cleanedList7 = [x for x in df['KC (MCAS39-State_WPI-Simple)'].tolist() if str(x) != 'nan']\n",
    "cleanedList8 = [x for x in df['KC (MCAS39-State_WPI-Simple).1'].tolist() if str(x) != 'nan']\n",
    "cleanedList9 = [x for x in df['KC (MCAS39-State_WPI-Simple).2'].tolist() if str(x) != 'nan']\n",
    "cleanedList10 = [x for x in df['KC (MCAS39-State_WPI-Simple).3'].tolist() if str(x) != 'nan']\n",
    "cleanedList11 = [x for x in df['KC (MCAS5-State_WPI-Simple)'].tolist() if str(x) != 'nan']\n",
    "\n",
    "combining_lists = cleanedList1 + cleanedList2 + cleanedList3 + cleanedList4 + cleanedList5 + cleanedList6 + cleanedList7 + cleanedList8 + cleanedList9 + cleanedList10 + cleanedList11\n",
    "removing_duplicate_concepts = [i for n, i in enumerate(combining_lists) if i not in combining_lists[:n]]\n",
    "\n",
    "count_concept = 1\n",
    "for i in removing_duplicate_concepts:\n",
    "    all_concepts[i] = count_concept\n",
    "    count_concept += 1\n",
    "json_concepts = json.dumps(all_concepts, indent = 2)"
   ]
  },
  {
   "cell_type": "code",
   "execution_count": null,
   "metadata": {},
   "outputs": [],
   "source": [
    "dataset_statistics = {\n",
    "\n",
    "        'Dataset': ['Assistments Math 2005-2006'],\n",
    "        'Learners': [str(len(all_users))],\n",
    "        'Concepts': [str(len(all_concepts))],\n",
    "        'Questions': [str(len(all_problems))],\n",
    "        'Responses': [str(len(df['Outcome']))]\n",
    "\n",
    "        }\n",
    "statistics_df = pd.DataFrame(dataset_statistics, columns = ['Dataset', 'Learners','Concepts','Questions','Responses'])\n",
    "print(statistics_df)"
   ]
  }
 ],
 "metadata": {
  "kernelspec": {
   "display_name": "Python 3",
   "language": "python",
   "name": "python3"
  },
  "language_info": {
   "codemirror_mode": {
    "name": "ipython",
    "version": 3
   },
   "file_extension": ".py",
   "mimetype": "text/x-python",
   "name": "python",
   "nbconvert_exporter": "python",
   "pygments_lexer": "ipython3",
   "version": "3.8.5"
  }
 },
 "nbformat": 4,
 "nbformat_minor": 4
}
